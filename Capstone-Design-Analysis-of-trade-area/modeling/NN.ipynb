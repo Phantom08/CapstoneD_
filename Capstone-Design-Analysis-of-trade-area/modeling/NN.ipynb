{
 "cells": [
  {
   "cell_type": "code",
   "execution_count": 109,
   "metadata": {},
   "outputs": [],
   "source": [
    "import matplotlib.pyplot as plt\n",
    "%matplotlib inline\n",
    "import seaborn as sns\n",
    "import numpy as np \n",
    "import os\n",
    "import pandas as pd"
   ]
  },
  {
   "cell_type": "code",
   "execution_count": 110,
   "metadata": {},
   "outputs": [],
   "source": [
    "os.getcwd()\n",
    "os.chdir('C://Users//Jaesung//Desktop//해오라기//합칠거')"
   ]
  },
  {
   "cell_type": "code",
   "execution_count": 111,
   "metadata": {},
   "outputs": [],
   "source": [
    "data = pd.read_csv('전처리완료.csv',engine ='python')"
   ]
  },
  {
   "cell_type": "code",
   "execution_count": 112,
   "metadata": {},
   "outputs": [
    {
     "name": "stdout",
     "output_type": "stream",
     "text": [
      "<class 'pandas.core.frame.DataFrame'>\n",
      "RangeIndex: 18398 entries, 0 to 18397\n",
      "Data columns (total 11 columns):\n",
      "안정성_지표_구간_코드          18398 non-null int64\n",
      "서비스_업종_코드_명_커피음료      18398 non-null int64\n",
      "성장성_지표_구간_코드          18398 non-null int64\n",
      "서비스_업종_코드_명_치킨집       18398 non-null int64\n",
      "서비스_업종_코드_명_패스트푸드점    18398 non-null int64\n",
      "서비스_업종_코드_명_분식집       18398 non-null int64\n",
      "cluster               18398 non-null int64\n",
      "점포수                   18398 non-null int64\n",
      "중년층_직장인구_수            18398 non-null int64\n",
      "총_직장인구_수              18398 non-null int64\n",
      "과밀_지수_구간_코드           18398 non-null float64\n",
      "dtypes: float64(1), int64(10)\n",
      "memory usage: 1.5 MB\n"
     ]
    }
   ],
   "source": [
    "data.info()"
   ]
  },
  {
   "cell_type": "code",
   "execution_count": 113,
   "metadata": {},
   "outputs": [],
   "source": [
    "X = data[data.columns[data.columns!='과밀_지수_구간_코드']]\n",
    "Y = data[data.columns[data.columns=='과밀_지수_구간_코드']]"
   ]
  },
  {
   "cell_type": "code",
   "execution_count": 114,
   "metadata": {},
   "outputs": [],
   "source": [
    "Y = pd.get_dummies(Y, columns=['과밀_지수_구간_코드'])"
   ]
  },
  {
   "cell_type": "code",
   "execution_count": 115,
   "metadata": {},
   "outputs": [],
   "source": [
    "from sklearn import model_selection\n",
    "X_train, X_test, y_train, y_test = model_selection.train_test_split(X, Y, test_size=0.3, random_state=42)"
   ]
  },
  {
   "cell_type": "markdown",
   "metadata": {},
   "source": [
    "## modeling - NN"
   ]
  },
  {
   "cell_type": "code",
   "execution_count": 116,
   "metadata": {},
   "outputs": [],
   "source": [
    "import tensorflow as tf\n",
    "import math"
   ]
  },
  {
   "cell_type": "code",
   "execution_count": 117,
   "metadata": {},
   "outputs": [
    {
     "name": "stdout",
     "output_type": "stream",
     "text": [
      "(12878, 10) (12878, 3)\n",
      "(5520, 10) (5520, 3)\n"
     ]
    }
   ],
   "source": [
    "print(X_train.shape,y_train.shape)\n",
    "print(X_test.shape, y_test.shape)"
   ]
  },
  {
   "cell_type": "code",
   "execution_count": 118,
   "metadata": {},
   "outputs": [
    {
     "data": {
      "text/html": [
       "<div>\n",
       "<style scoped>\n",
       "    .dataframe tbody tr th:only-of-type {\n",
       "        vertical-align: middle;\n",
       "    }\n",
       "\n",
       "    .dataframe tbody tr th {\n",
       "        vertical-align: top;\n",
       "    }\n",
       "\n",
       "    .dataframe thead th {\n",
       "        text-align: right;\n",
       "    }\n",
       "</style>\n",
       "<table border=\"1\" class=\"dataframe\">\n",
       "  <thead>\n",
       "    <tr style=\"text-align: right;\">\n",
       "      <th></th>\n",
       "      <th>과밀_지수_구간_코드_0.0</th>\n",
       "      <th>과밀_지수_구간_코드_1.0</th>\n",
       "      <th>과밀_지수_구간_코드_2.0</th>\n",
       "    </tr>\n",
       "  </thead>\n",
       "  <tbody>\n",
       "    <tr>\n",
       "      <th>5042</th>\n",
       "      <td>1</td>\n",
       "      <td>0</td>\n",
       "      <td>0</td>\n",
       "    </tr>\n",
       "    <tr>\n",
       "      <th>17279</th>\n",
       "      <td>0</td>\n",
       "      <td>0</td>\n",
       "      <td>1</td>\n",
       "    </tr>\n",
       "    <tr>\n",
       "      <th>2943</th>\n",
       "      <td>0</td>\n",
       "      <td>1</td>\n",
       "      <td>0</td>\n",
       "    </tr>\n",
       "    <tr>\n",
       "      <th>13544</th>\n",
       "      <td>0</td>\n",
       "      <td>0</td>\n",
       "      <td>1</td>\n",
       "    </tr>\n",
       "    <tr>\n",
       "      <th>13047</th>\n",
       "      <td>0</td>\n",
       "      <td>1</td>\n",
       "      <td>0</td>\n",
       "    </tr>\n",
       "  </tbody>\n",
       "</table>\n",
       "</div>"
      ],
      "text/plain": [
       "       과밀_지수_구간_코드_0.0  과밀_지수_구간_코드_1.0  과밀_지수_구간_코드_2.0\n",
       "5042                 1                0                0\n",
       "17279                0                0                1\n",
       "2943                 0                1                0\n",
       "13544                0                0                1\n",
       "13047                0                1                0"
      ]
     },
     "execution_count": 118,
     "metadata": {},
     "output_type": "execute_result"
    }
   ],
   "source": [
    "y_train.head()"
   ]
  },
  {
   "cell_type": "code",
   "execution_count": 119,
   "metadata": {},
   "outputs": [
    {
     "data": {
      "text/plain": [
       "array([[1, 0, 0],\n",
       "       [0, 0, 1],\n",
       "       [0, 1, 0],\n",
       "       ...,\n",
       "       [0, 1, 0],\n",
       "       [0, 1, 0],\n",
       "       [0, 0, 1]], dtype=uint8)"
      ]
     },
     "execution_count": 119,
     "metadata": {},
     "output_type": "execute_result"
    }
   ],
   "source": [
    "np.array(y_train)"
   ]
  },
  {
   "cell_type": "code",
   "execution_count": 132,
   "metadata": {},
   "outputs": [],
   "source": [
    "tf.reset_default_graph()"
   ]
  },
  {
   "cell_type": "markdown",
   "metadata": {},
   "source": [
    "## Layer / Lr 는 데이터에 따라서 달라집니다."
   ]
  },
  {
   "cell_type": "code",
   "execution_count": 133,
   "metadata": {},
   "outputs": [],
   "source": [
    "#learning_rate = 0.0005  # 0.005\n",
    "#learning_rate = 0.01\n",
    "learning_rate = 0.001"
   ]
  },
  {
   "cell_type": "code",
   "execution_count": 134,
   "metadata": {},
   "outputs": [],
   "source": [
    "X = tf.placeholder(tf.float32, shape=[None,10])\n",
    "Y = tf.placeholder(tf.float32, shape=[None,3])\n",
    "\n",
    "keep_prob = tf.placeholder(tf.float32)\n",
    "\n",
    "dense1 = tf.layers.dense(inputs=X, units=256, activation=tf.nn.relu)\n",
    "dropout1 = tf.nn.dropout(dense1, keep_prob=keep_prob)\n",
    "\n",
    "dense2 = tf.layers.dense(inputs=dropout1, units=256, activation=tf.nn.relu)\n",
    "dropout2 = tf.nn.dropout(dense2, keep_prob=keep_prob)\n",
    "\n",
    "dense3 = tf.layers.dense(inputs=dropout2, units=256, activation=tf.nn.relu)\n",
    "dropout3 = tf.nn.dropout(dense3, keep_prob=keep_prob)\n",
    "\n",
    "logits= tf.layers.dense(inputs=dropout3, units=3)\n",
    "\n",
    "cost = tf.reduce_mean(tf.nn.softmax_cross_entropy_with_logits_v2(logits=logits, labels=Y))\n",
    "optimizer = tf.train.AdamOptimizer(learning_rate=learning_rate).minimize(cost)"
   ]
  },
  {
   "cell_type": "code",
   "execution_count": 135,
   "metadata": {},
   "outputs": [],
   "source": [
    "sess = tf.Session()\n",
    "sess.run(tf.global_variables_initializer())"
   ]
  },
  {
   "cell_type": "code",
   "execution_count": 136,
   "metadata": {},
   "outputs": [],
   "source": [
    "model_path = 'C:/Users/Jaesung/Desktop/해오라기/my_test_model'\n",
    "#saver = tf.train.Saver()\n",
    " \n",
    "saver = tf.train.Saver()"
   ]
  },
  {
   "cell_type": "markdown",
   "metadata": {},
   "source": [
    "### 미니배치 사이즈, 에폭은 데이터마다 달라집니다"
   ]
  },
  {
   "cell_type": "code",
   "execution_count": 137,
   "metadata": {
    "scrolled": false
   },
   "outputs": [
    {
     "name": "stdout",
     "output_type": "stream",
     "text": [
      "Epoch: 0020 cost =  0.014436481 \t train acc: 54.473%\n",
      "Epoch: 0040 cost =  0.013410862 \t train acc: 60.304%\n",
      "Epoch: 0060 cost =  0.013239136 \t train acc: 60.203%\n",
      "Epoch: 0080 cost =  0.012929787 \t train acc: 61.228%\n"
     ]
    },
    {
     "data": {
      "text/plain": [
       "'C:/Users/Jaesung/Desktop/해오라기/my_test_model'"
      ]
     },
     "execution_count": 137,
     "metadata": {},
     "output_type": "execute_result"
    }
   ],
   "source": [
    "batch_size = 64\n",
    "cost_history = np.empty(shape=[1], dtype=float)\n",
    "\n",
    "for epoch in range(1,100):\n",
    "    avg_cost = 0\n",
    "    concat = np.concatenate((X_train, y_train), axis=-1)\n",
    "    np.random.shuffle(concat) #배치 셔플 진행 \n",
    "    X_train = concat[:, :10].astype(np.float32)\n",
    "    y_train = concat[:, 10:].astype(np.float32)\n",
    "    for i in range( int(math.ceil(len(X_train)/batch_size)) ): # 배치 사이즈로 나눈 나머지 다 돌 수 있게 \n",
    "        x_ = X_train[batch_size * i: batch_size * (i + 1)]\n",
    "        y_ = y_train[batch_size * i: batch_size * (i + 1)]\n",
    "        feed_dict={X:x_, Y:y_, keep_prob:0.8}   \n",
    "        c, _ = sess.run([cost, optimizer], feed_dict=feed_dict)\n",
    "        cost_history = np.append(cost_history,cost)\n",
    "        avg_cost += c\n",
    "    val_pred = sess.run(tf.argmax(logits,1),feed_dict={X: X_train , keep_prob:1})  \n",
    "    val_true = sess.run(tf.argmax(y_train,1))\n",
    "    accuracy_val = accuracy_score(val_pred, val_true)\n",
    "    if epoch% 20 == 0:\n",
    "        #print('Epoch:', '%04d' % (epoch), 'cost = ', '{:.9f}'.format(avg_cost / len(X_train)))\n",
    "        print('Epoch:', '%04d' % (epoch), 'cost = ', '{:.9f}'.format(avg_cost / len(X_train)), \"\\t train acc: {:.3f}%\".format(accuracy_val * 100),)        \n",
    "saver.save(sess, model_path)        \n",
    "\n",
    "#if epoch% 20 == 0:\n",
    "#   save"
   ]
  },
  {
   "cell_type": "code",
   "execution_count": 138,
   "metadata": {},
   "outputs": [],
   "source": [
    "y_pred = sess.run(tf.argmax(logits,1),feed_dict={X: X_test , keep_prob:1}) # keep_prob 삭제  \n",
    "y_true = sess.run(tf.argmax(y_test,1))"
   ]
  },
  {
   "cell_type": "code",
   "execution_count": 139,
   "metadata": {},
   "outputs": [
    {
     "name": "stdout",
     "output_type": "stream",
     "text": [
      "F-Score: 0.629\n",
      "Accuracy:  0.6289855072463768\n",
      "             precision    recall  f1-score   support\n",
      "\n",
      "          0       0.75      0.72      0.74      1883\n",
      "          1       0.55      0.53      0.54      1751\n",
      "          2       0.58      0.63      0.61      1886\n",
      "\n",
      "avg / total       0.63      0.63      0.63      5520\n",
      "\n",
      "[[1362  219  302]\n",
      " [ 282  925  544]\n",
      " [ 162  539 1185]]\n"
     ]
    }
   ],
   "source": [
    "from sklearn.metrics import precision_recall_fscore_support\n",
    "p,r,f,s = precision_recall_fscore_support(y_true, y_pred, average='micro')\n",
    "print(\"F-Score:\", round(f,3))\n",
    "from sklearn.metrics import accuracy_score\n",
    "print(\"Accuracy: \", accuracy_score(y_true, y_pred))\n",
    "\n",
    "from sklearn.metrics import classification_report\n",
    "print(classification_report(y_true, y_pred))\n",
    "from sklearn.metrics import confusion_matrix\n",
    "print(confusion_matrix(y_true, y_pred))"
   ]
  },
  {
   "cell_type": "code",
   "execution_count": null,
   "metadata": {},
   "outputs": [],
   "source": []
  },
  {
   "cell_type": "code",
   "execution_count": null,
   "metadata": {},
   "outputs": [],
   "source": []
  }
 ],
 "metadata": {
  "kernelspec": {
   "display_name": "Python 3",
   "language": "python",
   "name": "python3"
  },
  "language_info": {
   "codemirror_mode": {
    "name": "ipython",
    "version": 3
   },
   "file_extension": ".py",
   "mimetype": "text/x-python",
   "name": "python",
   "nbconvert_exporter": "python",
   "pygments_lexer": "ipython3",
   "version": "3.6.4"
  }
 },
 "nbformat": 4,
 "nbformat_minor": 2
}
