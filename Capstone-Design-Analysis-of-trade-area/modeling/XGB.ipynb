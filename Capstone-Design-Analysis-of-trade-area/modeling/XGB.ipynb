{
 "cells": [
  {
   "cell_type": "code",
   "execution_count": 1,
   "metadata": {},
   "outputs": [],
   "source": [
    "import matplotlib.pyplot as plt\n",
    "%matplotlib inline\n",
    "import seaborn as sns\n",
    "import numpy as np \n",
    "import os\n",
    "import pandas as pd"
   ]
  },
  {
   "cell_type": "code",
   "execution_count": 2,
   "metadata": {},
   "outputs": [],
   "source": [
    "os.getcwd()\n",
    "os.chdir('C://Users//Jaesung//Desktop//해오라기//합칠거')"
   ]
  },
  {
   "cell_type": "code",
   "execution_count": 3,
   "metadata": {},
   "outputs": [],
   "source": [
    "data = pd.read_csv('전처리완료.csv',engine ='python')"
   ]
  },
  {
   "cell_type": "code",
   "execution_count": 4,
   "metadata": {},
   "outputs": [
    {
     "name": "stdout",
     "output_type": "stream",
     "text": [
      "<class 'pandas.core.frame.DataFrame'>\n",
      "RangeIndex: 18398 entries, 0 to 18397\n",
      "Data columns (total 62 columns):\n",
      "상권_코드              18398 non-null int64\n",
      "서비스_업종_코드_명        18398 non-null int64\n",
      "평균_영업_개월_수         18398 non-null float64\n",
      "당월_매출_금액           18398 non-null int64\n",
      "월요일_매출_금액          18398 non-null int64\n",
      "화요일_매출_금액          18398 non-null int64\n",
      "수요일_매출_금액          18398 non-null int64\n",
      "목요일_매출_금액          18398 non-null int64\n",
      "금요일_매출_금액          18398 non-null int64\n",
      "토요일_매출_금액          18398 non-null int64\n",
      "일요일_매출_금액          18398 non-null int64\n",
      "시간대_00~06_매출_금액    18398 non-null int64\n",
      "시간대_06~11_매출_금액    18398 non-null int64\n",
      "시간대_11~14_매출_금액    18398 non-null int64\n",
      "시간대_14~17_매출_금액    18398 non-null int64\n",
      "시간대_17~21_매출_금액    18398 non-null int64\n",
      "시간대_21~24_매출_금액    18398 non-null int64\n",
      "남성_매출_금액           18398 non-null int64\n",
      "여성_매출_금액           18398 non-null int64\n",
      "청소년층_매출금액          18398 non-null int64\n",
      "청년층_매출금액           18398 non-null int64\n",
      "중년층_매출금액           18398 non-null int64\n",
      "장년층_매출금액           18398 non-null int64\n",
      "점포수                18398 non-null int64\n",
      "집객시설_수             18398 non-null int64\n",
      "관공서_수              18398 non-null int64\n",
      "은행_수               18398 non-null int64\n",
      "종합병원_수             18398 non-null int64\n",
      "일반_병원_수            18398 non-null int64\n",
      "약국_수               18398 non-null int64\n",
      "유치원_수              18398 non-null int64\n",
      "초등학교_수             18398 non-null int64\n",
      "중학교_수              18398 non-null int64\n",
      "고등학교_수             18398 non-null int64\n",
      "대학교_수              18398 non-null int64\n",
      "백화점_수              18398 non-null int64\n",
      "슈퍼마켓_수             18398 non-null int64\n",
      "극장_수               18398 non-null int64\n",
      "숙박_시설_수            18398 non-null int64\n",
      "버스_터미널_수           18398 non-null int64\n",
      "지하철_역_수            18398 non-null int64\n",
      "버스_정거장_수           18398 non-null int64\n",
      "과밀_지수_구간_코드        18398 non-null float64\n",
      "활성도_지표_구간_코드       18398 non-null int64\n",
      "성장성_지표_구간_코드       18398 non-null int64\n",
      "안정성_지표_구간_코드       18398 non-null int64\n",
      "총_유동인구_수           18398 non-null int64\n",
      "청소년층_유동인구_수        18398 non-null int64\n",
      "청년층_유동인구_수         18398 non-null int64\n",
      "중년층_유동인구_수         18398 non-null int64\n",
      "장년층_유동인구_수         18398 non-null int64\n",
      "총_상주인구_수           18398 non-null int64\n",
      "청년층_유동인구_수.1       18398 non-null int64\n",
      "청년층_상주인구_수         18398 non-null int64\n",
      "중년층_상주인구_수         18398 non-null int64\n",
      "장년층_상주인구_수         18398 non-null int64\n",
      "총_직장인구_수           18398 non-null int64\n",
      "청소년층_직장인구_수        18398 non-null int64\n",
      "청년층_직장인구_수         18398 non-null int64\n",
      "중년층_직장인구_수         18398 non-null int64\n",
      "장년층_직장인구_수         18398 non-null int64\n",
      "cluster            18398 non-null int64\n",
      "dtypes: float64(2), int64(60)\n",
      "memory usage: 8.7 MB\n"
     ]
    }
   ],
   "source": [
    "data.info()"
   ]
  },
  {
   "cell_type": "code",
   "execution_count": 5,
   "metadata": {},
   "outputs": [],
   "source": [
    "X = data[data.columns[data.columns!='과밀_지수_구간_코드']]\n",
    "Y = data[data.columns[data.columns=='과밀_지수_구간_코드']]"
   ]
  },
  {
   "cell_type": "code",
   "execution_count": 6,
   "metadata": {},
   "outputs": [],
   "source": [
    "from sklearn import model_selection\n",
    "X_train, X_test, y_train, y_test = model_selection.train_test_split(X, Y, test_size=0.3, random_state=42)"
   ]
  },
  {
   "cell_type": "markdown",
   "metadata": {},
   "source": [
    "## modeling - XGBoost"
   ]
  },
  {
   "cell_type": "code",
   "execution_count": 7,
   "metadata": {},
   "outputs": [
    {
     "name": "stderr",
     "output_type": "stream",
     "text": [
      "C:\\Users\\Jaesung\\Anaconda3\\lib\\site-packages\\sklearn\\cross_validation.py:41: DeprecationWarning: This module was deprecated in version 0.18 in favor of the model_selection module into which all the refactored classes and functions are moved. Also note that the interface of the new CV iterators are different from that of this module. This module will be removed in 0.20.\n",
      "  \"This module will be removed in 0.20.\", DeprecationWarning)\n"
     ]
    }
   ],
   "source": [
    "from sklearn.base import BaseEstimator, TransformerMixin, RegressorMixin, clone\n",
    "from sklearn.model_selection import KFold, cross_val_score, train_test_split\n",
    "import xgboost as xgb\n",
    "from sklearn.model_selection import GridSearchCV\n",
    "from sklearn.model_selection import cross_validate\n",
    "from sklearn.model_selection import StratifiedKFold\n",
    "from xgboost import XGBClassifier\n",
    "from sklearn.cross_validation import ShuffleSplit\n",
    "from sklearn.model_selection import StratifiedKFold"
   ]
  },
  {
   "cell_type": "code",
   "execution_count": 8,
   "metadata": {},
   "outputs": [],
   "source": [
    "import warnings\n",
    "warnings.filterwarnings(action='ignore') "
   ]
  },
  {
   "cell_type": "markdown",
   "metadata": {},
   "source": [
    "### n fold validation"
   ]
  },
  {
   "cell_type": "code",
   "execution_count": 9,
   "metadata": {},
   "outputs": [],
   "source": [
    "n_folds = 3\n",
    "\n",
    "def cv(model):\n",
    "    kf = KFold(n_folds, shuffle=True, random_state=42).get_n_splits(X_train.values)\n",
    "    score = cross_validate(model, X_train, y_train, scoring=['accuracy'], cv=kf, return_train_score=True)\n",
    "    return(score)\n",
    "\n",
    "\n",
    "#    rmse= np.sqrt(-cross_val_score(model, train.values, y_train, scoring=\"neg_mean_squared_error\", cv = kf))\n",
    "\n"
   ]
  },
  {
   "cell_type": "markdown",
   "metadata": {},
   "source": [
    "### 아래 파라미터들중 하나 선택하여 진행 "
   ]
  },
  {
   "cell_type": "code",
   "execution_count": 10,
   "metadata": {},
   "outputs": [],
   "source": [
    "#model_xgb = xgb.XGBClassifier(colsample_bytree=0.4603, gamma=0.0468, \n",
    "#                             learning_rate=0.05, max_depth=3, \n",
    "#                             min_child_weight=1, n_estimators=500,\n",
    "#                             reg_alpha=0.4640, reg_lambda=0.9571, \n",
    "#                             subsample=0.48, silent=1,\n",
    "#                             random_state =7, nthread = -1)"
   ]
  },
  {
   "cell_type": "code",
   "execution_count": 61,
   "metadata": {},
   "outputs": [],
   "source": [
    "model_xgb = xgb.XGBClassifier(colsample_bytree= 0.6, gamma= 1.5, learning_rate= 0.05, max_depth= 5, min_child_weight= 5, n_estimators= 700, subsample= 1.0\n",
    "                             ,random_state =7, nthread = -1)\n",
    "\n"
   ]
  },
  {
   "cell_type": "code",
   "execution_count": 11,
   "metadata": {},
   "outputs": [
    {
     "data": {
      "text/plain": [
       "{'fit_time': array([25.97356153, 24.7179687 , 25.73017955]),\n",
       " 'score_time': array([0.33313012, 0.31514859, 0.31311083]),\n",
       " 'test_accuracy': array([0.73195156, 0.73998136, 0.72600186]),\n",
       " 'train_accuracy': array([0.81046132, 0.80875844, 0.81306778])}"
      ]
     },
     "execution_count": 11,
     "metadata": {},
     "output_type": "execute_result"
    }
   ],
   "source": [
    "cv(model_xgb)"
   ]
  },
  {
   "cell_type": "code",
   "execution_count": 12,
   "metadata": {
    "scrolled": true
   },
   "outputs": [
    {
     "data": {
      "text/plain": [
       "XGBClassifier(base_score=0.5, booster='gbtree', colsample_bylevel=1,\n",
       "       colsample_bytree=0.4603, gamma=0.0468, learning_rate=0.05,\n",
       "       max_delta_step=0, max_depth=3, min_child_weight=1, missing=None,\n",
       "       n_estimators=500, n_jobs=1, nthread=-1, objective='multi:softprob',\n",
       "       random_state=7, reg_alpha=0.464, reg_lambda=0.9571,\n",
       "       scale_pos_weight=1, seed=None, silent=1, subsample=0.48)"
      ]
     },
     "execution_count": 12,
     "metadata": {},
     "output_type": "execute_result"
    }
   ],
   "source": [
    "model_xgb.fit(X_train, y_train)"
   ]
  },
  {
   "cell_type": "code",
   "execution_count": 13,
   "metadata": {},
   "outputs": [],
   "source": [
    "predictions  = model_xgb.predict(X_test)"
   ]
  },
  {
   "cell_type": "code",
   "execution_count": 14,
   "metadata": {
    "scrolled": true
   },
   "outputs": [
    {
     "name": "stdout",
     "output_type": "stream",
     "text": [
      "F-Score: 0.742\n",
      "Accuracy:  0.7418478260869565\n",
      "             precision    recall  f1-score   support\n",
      "\n",
      "        0.0       0.84      0.86      0.85      1883\n",
      "        1.0       0.67      0.64      0.65      1751\n",
      "        2.0       0.71      0.73      0.72      1886\n",
      "\n",
      "avg / total       0.74      0.74      0.74      5520\n",
      "\n",
      "[[1611  152  120]\n",
      " [ 201 1113  437]\n",
      " [ 117  398 1371]]\n"
     ]
    }
   ],
   "source": [
    "from sklearn.metrics import precision_recall_fscore_support\n",
    "p,r,f,s = precision_recall_fscore_support(y_test, predictions, average='micro')\n",
    "print(\"F-Score:\", round(f,3))\n",
    "from sklearn.metrics import accuracy_score\n",
    "print(\"Accuracy: \", accuracy_score(y_test, predictions))\n",
    "\n",
    "from sklearn.metrics import classification_report\n",
    "print(classification_report(y_test, predictions))\n",
    "from sklearn.metrics import confusion_matrix\n",
    "print(confusion_matrix(y_test, predictions))"
   ]
  },
  {
   "cell_type": "markdown",
   "metadata": {},
   "source": [
    "## kfold with grid search (많은시간 소요)"
   ]
  },
  {
   "cell_type": "code",
   "execution_count": 10,
   "metadata": {},
   "outputs": [],
   "source": [
    "xgb_model = xgb.XGBClassifier(objective='binary:logistic',\n",
    "                    silent=True, nthread=1)\n",
    "\n",
    "\n"
   ]
  },
  {
   "cell_type": "code",
   "execution_count": 11,
   "metadata": {},
   "outputs": [],
   "source": [
    "parameters = {\n",
    "        'learning_rate': [0.05],\n",
    "        'min_child_weight': [1, 5, 10],\n",
    "        'gamma': [0.05, 0.5, 1, 1.5],\n",
    "        'subsample': [0.5, 0.7, 1.0],\n",
    "        'colsample_bytree': [0.6, 0.8, 1.0],\n",
    "        'max_depth': [3, 5, 7],\n",
    "        'n_estimators': [400, 700, 1000],\n",
    "        }\n",
    "\n",
    "clf = GridSearchCV(xgb_model, parameters, n_jobs=5, \n",
    "                   cv=StratifiedKFold(n_splits=3, shuffle=True), \n",
    "                   scoring='accuracy',\n",
    "                   verbose=3, refit=True)\n",
    "\n"
   ]
  },
  {
   "cell_type": "code",
   "execution_count": 12,
   "metadata": {},
   "outputs": [
    {
     "name": "stdout",
     "output_type": "stream",
     "text": [
      "Fitting 3 folds for each of 972 candidates, totalling 2916 fits\n"
     ]
    },
    {
     "name": "stderr",
     "output_type": "stream",
     "text": [
      "[Parallel(n_jobs=5)]: Done  22 tasks      | elapsed:  2.3min\n",
      "[Parallel(n_jobs=5)]: Done 118 tasks      | elapsed: 14.3min\n",
      "[Parallel(n_jobs=5)]: Done 278 tasks      | elapsed: 44.2min\n",
      "[Parallel(n_jobs=5)]: Done 502 tasks      | elapsed: 83.6min\n",
      "[Parallel(n_jobs=5)]: Done 790 tasks      | elapsed: 130.1min\n",
      "[Parallel(n_jobs=5)]: Done 1142 tasks      | elapsed: 220.1min\n",
      "[Parallel(n_jobs=5)]: Done 1558 tasks      | elapsed: 292.6min\n",
      "[Parallel(n_jobs=5)]: Done 2038 tasks      | elapsed: 369.2min\n",
      "[Parallel(n_jobs=5)]: Done 2582 tasks      | elapsed: 471.7min\n",
      "[Parallel(n_jobs=5)]: Done 2916 out of 2916 | elapsed: 535.6min finished\n"
     ]
    },
    {
     "name": "stdout",
     "output_type": "stream",
     "text": [
      "Acc score: 0.6924211834135735\n",
      "colsample_bytree: 0.6\n",
      "gamma: 1.5\n",
      "learning_rate: 0.05\n",
      "max_depth: 5\n",
      "min_child_weight: 5\n",
      "n_estimators: 700\n",
      "subsample: 1.0\n"
     ]
    }
   ],
   "source": [
    "clf.fit(X_train, y_train)\n",
    "\n",
    "#trust your CV!\n",
    "best_parameters, score, _ = max(clf.grid_scores_, key=lambda x: x[1])\n",
    "print('Acc score:', score)\n",
    "for param_name in sorted(best_parameters.keys()):\n",
    "    print(\"%s: %r\" % (param_name, best_parameters[param_name]))"
   ]
  },
  {
   "cell_type": "code",
   "execution_count": 47,
   "metadata": {},
   "outputs": [
    {
     "ename": "ValueError",
     "evalue": "feature_names mismatch: ['활성도_지표_구간_코드', '안정성_지표_구간_코드', '서비스_업종_코드_명_커피음료', '성장성_지표_구간_코드', '서비스_업종_코드_명_분식집', '서비스_업종_코드_명_패스트푸드점', '서비스_업종_코드_명_치킨집', '총_직장인구_수', '점포수'] ['활성도_지표_구간_코드', '안정성_지표_구간_코드', '서비스_업종_코드_명_커피음료', '성장성_지표_구간_코드', '서비스_업종_코드_명_분식집', '서비스_업종_코드_명_패스트푸드점', '서비스_업종_코드_명_치킨집', '총_직장인구_수', '총_직장인구_수.1', '점포수']\ntraining data did not have the following fields: 총_직장인구_수.1",
     "output_type": "error",
     "traceback": [
      "\u001b[1;31m---------------------------------------------------------------------------\u001b[0m",
      "\u001b[1;31mValueError\u001b[0m                                Traceback (most recent call last)",
      "\u001b[1;32m<ipython-input-47-918d084b9118>\u001b[0m in \u001b[0;36m<module>\u001b[1;34m()\u001b[0m\n\u001b[1;32m----> 1\u001b[1;33m \u001b[0mpredictions\u001b[0m  \u001b[1;33m=\u001b[0m \u001b[0mclf\u001b[0m\u001b[1;33m.\u001b[0m\u001b[0mpredict\u001b[0m\u001b[1;33m(\u001b[0m\u001b[0mX_test\u001b[0m\u001b[1;33m)\u001b[0m\u001b[1;33m\u001b[0m\u001b[0m\n\u001b[0m",
      "\u001b[1;32m~\\Anaconda3\\lib\\site-packages\\sklearn\\utils\\metaestimators.py\u001b[0m in \u001b[0;36m<lambda>\u001b[1;34m(*args, **kwargs)\u001b[0m\n\u001b[0;32m    113\u001b[0m \u001b[1;33m\u001b[0m\u001b[0m\n\u001b[0;32m    114\u001b[0m         \u001b[1;31m# lambda, but not partial, allows help() to work with update_wrapper\u001b[0m\u001b[1;33m\u001b[0m\u001b[1;33m\u001b[0m\u001b[0m\n\u001b[1;32m--> 115\u001b[1;33m         \u001b[0mout\u001b[0m \u001b[1;33m=\u001b[0m \u001b[1;32mlambda\u001b[0m \u001b[1;33m*\u001b[0m\u001b[0margs\u001b[0m\u001b[1;33m,\u001b[0m \u001b[1;33m**\u001b[0m\u001b[0mkwargs\u001b[0m\u001b[1;33m:\u001b[0m \u001b[0mself\u001b[0m\u001b[1;33m.\u001b[0m\u001b[0mfn\u001b[0m\u001b[1;33m(\u001b[0m\u001b[0mobj\u001b[0m\u001b[1;33m,\u001b[0m \u001b[1;33m*\u001b[0m\u001b[0margs\u001b[0m\u001b[1;33m,\u001b[0m \u001b[1;33m**\u001b[0m\u001b[0mkwargs\u001b[0m\u001b[1;33m)\u001b[0m\u001b[1;33m\u001b[0m\u001b[0m\n\u001b[0m\u001b[0;32m    116\u001b[0m         \u001b[1;31m# update the docstring of the returned function\u001b[0m\u001b[1;33m\u001b[0m\u001b[1;33m\u001b[0m\u001b[0m\n\u001b[0;32m    117\u001b[0m         \u001b[0mupdate_wrapper\u001b[0m\u001b[1;33m(\u001b[0m\u001b[0mout\u001b[0m\u001b[1;33m,\u001b[0m \u001b[0mself\u001b[0m\u001b[1;33m.\u001b[0m\u001b[0mfn\u001b[0m\u001b[1;33m)\u001b[0m\u001b[1;33m\u001b[0m\u001b[0m\n",
      "\u001b[1;32m~\\Anaconda3\\lib\\site-packages\\sklearn\\model_selection\\_search.py\u001b[0m in \u001b[0;36mpredict\u001b[1;34m(self, X)\u001b[0m\n\u001b[0;32m    465\u001b[0m         \"\"\"\n\u001b[0;32m    466\u001b[0m         \u001b[0mself\u001b[0m\u001b[1;33m.\u001b[0m\u001b[0m_check_is_fitted\u001b[0m\u001b[1;33m(\u001b[0m\u001b[1;34m'predict'\u001b[0m\u001b[1;33m)\u001b[0m\u001b[1;33m\u001b[0m\u001b[0m\n\u001b[1;32m--> 467\u001b[1;33m         \u001b[1;32mreturn\u001b[0m \u001b[0mself\u001b[0m\u001b[1;33m.\u001b[0m\u001b[0mbest_estimator_\u001b[0m\u001b[1;33m.\u001b[0m\u001b[0mpredict\u001b[0m\u001b[1;33m(\u001b[0m\u001b[0mX\u001b[0m\u001b[1;33m)\u001b[0m\u001b[1;33m\u001b[0m\u001b[0m\n\u001b[0m\u001b[0;32m    468\u001b[0m \u001b[1;33m\u001b[0m\u001b[0m\n\u001b[0;32m    469\u001b[0m     \u001b[1;33m@\u001b[0m\u001b[0mif_delegate_has_method\u001b[0m\u001b[1;33m(\u001b[0m\u001b[0mdelegate\u001b[0m\u001b[1;33m=\u001b[0m\u001b[1;33m(\u001b[0m\u001b[1;34m'best_estimator_'\u001b[0m\u001b[1;33m,\u001b[0m \u001b[1;34m'estimator'\u001b[0m\u001b[1;33m)\u001b[0m\u001b[1;33m)\u001b[0m\u001b[1;33m\u001b[0m\u001b[0m\n",
      "\u001b[1;32m~\\xgboost\\python-package\\xgboost\\sklearn.py\u001b[0m in \u001b[0;36mpredict\u001b[1;34m(self, data, output_margin, ntree_limit)\u001b[0m\n\u001b[0;32m    542\u001b[0m         class_probs = self.get_booster().predict(test_dmatrix,\n\u001b[0;32m    543\u001b[0m                                                  \u001b[0moutput_margin\u001b[0m\u001b[1;33m=\u001b[0m\u001b[0moutput_margin\u001b[0m\u001b[1;33m,\u001b[0m\u001b[1;33m\u001b[0m\u001b[0m\n\u001b[1;32m--> 544\u001b[1;33m                                                  ntree_limit=ntree_limit)\n\u001b[0m\u001b[0;32m    545\u001b[0m         \u001b[1;32mif\u001b[0m \u001b[0mlen\u001b[0m\u001b[1;33m(\u001b[0m\u001b[0mclass_probs\u001b[0m\u001b[1;33m.\u001b[0m\u001b[0mshape\u001b[0m\u001b[1;33m)\u001b[0m \u001b[1;33m>\u001b[0m \u001b[1;36m1\u001b[0m\u001b[1;33m:\u001b[0m\u001b[1;33m\u001b[0m\u001b[0m\n\u001b[0;32m    546\u001b[0m             \u001b[0mcolumn_indexes\u001b[0m \u001b[1;33m=\u001b[0m \u001b[0mnp\u001b[0m\u001b[1;33m.\u001b[0m\u001b[0margmax\u001b[0m\u001b[1;33m(\u001b[0m\u001b[0mclass_probs\u001b[0m\u001b[1;33m,\u001b[0m \u001b[0maxis\u001b[0m\u001b[1;33m=\u001b[0m\u001b[1;36m1\u001b[0m\u001b[1;33m)\u001b[0m\u001b[1;33m\u001b[0m\u001b[0m\n",
      "\u001b[1;32m~\\xgboost\\python-package\\xgboost\\core.py\u001b[0m in \u001b[0;36mpredict\u001b[1;34m(self, data, output_margin, ntree_limit, pred_leaf, pred_contribs, approx_contribs, pred_interactions)\u001b[0m\n\u001b[0;32m   1047\u001b[0m             \u001b[0moption_mask\u001b[0m \u001b[1;33m|=\u001b[0m \u001b[1;36m0x10\u001b[0m\u001b[1;33m\u001b[0m\u001b[0m\n\u001b[0;32m   1048\u001b[0m \u001b[1;33m\u001b[0m\u001b[0m\n\u001b[1;32m-> 1049\u001b[1;33m         \u001b[0mself\u001b[0m\u001b[1;33m.\u001b[0m\u001b[0m_validate_features\u001b[0m\u001b[1;33m(\u001b[0m\u001b[0mdata\u001b[0m\u001b[1;33m)\u001b[0m\u001b[1;33m\u001b[0m\u001b[0m\n\u001b[0m\u001b[0;32m   1050\u001b[0m \u001b[1;33m\u001b[0m\u001b[0m\n\u001b[0;32m   1051\u001b[0m         \u001b[0mlength\u001b[0m \u001b[1;33m=\u001b[0m \u001b[0mc_bst_ulong\u001b[0m\u001b[1;33m(\u001b[0m\u001b[1;33m)\u001b[0m\u001b[1;33m\u001b[0m\u001b[0m\n",
      "\u001b[1;32m~\\xgboost\\python-package\\xgboost\\core.py\u001b[0m in \u001b[0;36m_validate_features\u001b[1;34m(self, data)\u001b[0m\n\u001b[0;32m   1305\u001b[0m \u001b[1;33m\u001b[0m\u001b[0m\n\u001b[0;32m   1306\u001b[0m                 raise ValueError(msg.format(self.feature_names,\n\u001b[1;32m-> 1307\u001b[1;33m                                             data.feature_names))\n\u001b[0m\u001b[0;32m   1308\u001b[0m \u001b[1;33m\u001b[0m\u001b[0m\n\u001b[0;32m   1309\u001b[0m     \u001b[1;32mdef\u001b[0m \u001b[0mget_split_value_histogram\u001b[0m\u001b[1;33m(\u001b[0m\u001b[0mself\u001b[0m\u001b[1;33m,\u001b[0m \u001b[0mfeature\u001b[0m\u001b[1;33m,\u001b[0m \u001b[0mfmap\u001b[0m\u001b[1;33m=\u001b[0m\u001b[1;34m''\u001b[0m\u001b[1;33m,\u001b[0m \u001b[0mbins\u001b[0m\u001b[1;33m=\u001b[0m\u001b[1;32mNone\u001b[0m\u001b[1;33m,\u001b[0m \u001b[0mas_pandas\u001b[0m\u001b[1;33m=\u001b[0m\u001b[1;32mTrue\u001b[0m\u001b[1;33m)\u001b[0m\u001b[1;33m:\u001b[0m\u001b[1;33m\u001b[0m\u001b[0m\n",
      "\u001b[1;31mValueError\u001b[0m: feature_names mismatch: ['활성도_지표_구간_코드', '안정성_지표_구간_코드', '서비스_업종_코드_명_커피음료', '성장성_지표_구간_코드', '서비스_업종_코드_명_분식집', '서비스_업종_코드_명_패스트푸드점', '서비스_업종_코드_명_치킨집', '총_직장인구_수', '점포수'] ['활성도_지표_구간_코드', '안정성_지표_구간_코드', '서비스_업종_코드_명_커피음료', '성장성_지표_구간_코드', '서비스_업종_코드_명_분식집', '서비스_업종_코드_명_패스트푸드점', '서비스_업종_코드_명_치킨집', '총_직장인구_수', '총_직장인구_수.1', '점포수']\ntraining data did not have the following fields: 총_직장인구_수.1"
     ]
    }
   ],
   "source": [
    "predictions  = clf.predict(X_test)"
   ]
  },
  {
   "cell_type": "code",
   "execution_count": null,
   "metadata": {},
   "outputs": [],
   "source": [
    "from sklearn.metrics import precision_recall_fscore_support\n",
    "p,r,f,s = precision_recall_fscore_support(y_test, predictions, average='micro')\n",
    "print(\"F-Score:\", round(f,3))\n",
    "from sklearn.metrics import accuracy_score\n",
    "print(\"Accuracy: \", accuracy_score(y_test, predictions))\n",
    "\n",
    "from sklearn.metrics import classification_report\n",
    "print(classification_report(y_test, predictions))\n",
    "from sklearn.metrics import confusion_matrix\n",
    "print(confusion_matrix(y_test, predictions))"
   ]
  },
  {
   "cell_type": "code",
   "execution_count": null,
   "metadata": {},
   "outputs": [],
   "source": []
  }
 ],
 "metadata": {
  "kernelspec": {
   "display_name": "Python 3",
   "language": "python",
   "name": "python3"
  },
  "language_info": {
   "codemirror_mode": {
    "name": "ipython",
    "version": 3
   },
   "file_extension": ".py",
   "mimetype": "text/x-python",
   "name": "python",
   "nbconvert_exporter": "python",
   "pygments_lexer": "ipython3",
   "version": "3.6.4"
  }
 },
 "nbformat": 4,
 "nbformat_minor": 2
}
